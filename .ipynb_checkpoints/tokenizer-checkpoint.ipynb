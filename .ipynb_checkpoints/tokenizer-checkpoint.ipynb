{
 "cells": [
  {
   "cell_type": "code",
   "execution_count": 1,
   "id": "4865f9e3-eeb4-4b33-9fa3-7c325876278c",
   "metadata": {},
   "outputs": [
    {
     "name": "stderr",
     "output_type": "stream",
     "text": [
      "/home/pulsar/miniconda3/envs/search-engine/lib/python3.11/site-packages/tqdm/auto.py:21: TqdmWarning: IProgress not found. Please update jupyter and ipywidgets. See https://ipywidgets.readthedocs.io/en/stable/user_install.html\n",
      "  from .autonotebook import tqdm as notebook_tqdm\n"
     ]
    }
   ],
   "source": [
    "from datasets import load_dataset"
   ]
  },
  {
   "cell_type": "code",
   "execution_count": 2,
   "id": "6b7b1c14",
   "metadata": {},
   "outputs": [],
   "source": [
    "from datasets import load_dataset\n",
    "import pandas as pd\n",
    "dataset = load_dataset(\"ms_marco\", \"v1.1\")\n",
    "    "
   ]
  },
  {
   "cell_type": "code",
   "execution_count": 3,
   "id": "7033711d-7e04-4424-a9a6-e8ba91e26e11",
   "metadata": {},
   "outputs": [],
   "source": [
    "def df_to_list(df):\n",
    "    queries = train_df['query'].tolist()\n",
    "    passage_container = train_df['passages'].tolist()\n",
    "    passage_texts = []\n",
    "    for item in passage_container:\n",
    "        for passage_text in item[\"passage_text\"]:\n",
    "            passage_texts.append(passage_text)\n",
    "\n",
    "    unique_passage_list = list(set(passage_texts))\n",
    "    return queries, unique_passage_list\n",
    "    \n",
    "def count_unique_words(file_path):\n",
    "    with open(file_path, 'r') as file:\n",
    "        content = file.read()\n",
    "        words = content.split()\n",
    "        unique_words = set(words)\n",
    "        return len(unique_words)\n"
   ]
  },
  {
   "cell_type": "code",
   "execution_count": 4,
   "id": "765f027e",
   "metadata": {
    "scrolled": true
   },
   "outputs": [],
   "source": [
    "val_data = dataset[\"validation\"]\n",
    "val_df = pd.DataFrame(val_data)"
   ]
  },
  {
   "cell_type": "code",
   "execution_count": 5,
   "id": "671e5ba4",
   "metadata": {},
   "outputs": [],
   "source": [
    "train_data = dataset[\"train\"]\n",
    "train_df = pd.DataFrame(train_data)"
   ]
  },
  {
   "cell_type": "code",
   "execution_count": 6,
   "id": "f87ba143",
   "metadata": {},
   "outputs": [],
   "source": [
    "test_data = dataset[\"test\"]\n",
    "test_df = pd.DataFrame(test_data)\n",
    "\n"
   ]
  },
  {
   "cell_type": "code",
   "execution_count": 7,
   "id": "a70e7090",
   "metadata": {},
   "outputs": [],
   "source": [
    "queries_train, passagges_train = df_to_list(train_df)\n",
    "queries_val, passagges_val = df_to_list(val_df)\n",
    "queries_test, passagges_test = df_to_list(test_df)\n",
    "\n",
    "with open('corpus.txt', 'w') as file:\n",
    "    for query in queries_train:\n",
    "        file.write(f'{query}\\n')\n",
    "    for passage in passagges_train:\n",
    "        file.write(f'{passage}\\n')\n",
    "        \n",
    "    for query in queries_val:\n",
    "        file.write(f'{query}\\n')\n",
    "    for passage in passagges_val:\n",
    "        file.write(f'{passage}\\n')\n",
    "        \n",
    "    for query in queries_test:\n",
    "        file.write(f'{query}\\n')\n",
    "    for passage in passagges_test:\n",
    "        file.write(f'{passage}\\n')"
   ]
  },
  {
   "cell_type": "code",
   "execution_count": 8,
   "id": "5093155b",
   "metadata": {},
   "outputs": [],
   "source": [
    "unique_word_count = count_unique_words('corpus.txt')"
   ]
  },
  {
   "cell_type": "code",
   "execution_count": null,
   "id": "d8683987",
   "metadata": {},
   "outputs": [],
   "source": [
    "import sentencepiece as spm\n",
    "\n",
    "model_prefix = 'tokenizer'  # Prefix for the model files\n",
    "vocab_size = 16000  # Number of tokens in the vocabulary\n",
    "model_type = 'bpe'  # You can choose 'unigram' or 'bpe'\n",
    "\n",
    "# Train the SentencePiece model\n",
    "spm.SentencePieceTrainer.train(\n",
    "    input='corpus.txt',\n",
    "    model_prefix=model_prefix,\n",
    "    vocab_size=vocab_size,\n",
    "    model_type=model_type\n",
    ")\n"
   ]
  },
  {
   "cell_type": "code",
   "execution_count": 9,
   "id": "4e7479b3",
   "metadata": {},
   "outputs": [
    {
     "name": "stdout",
     "output_type": "stream",
     "text": [
      "1048501\n"
     ]
    }
   ],
   "source": [
    "print(unique_word_count)"
   ]
  },
  {
   "cell_type": "code",
   "execution_count": 11,
   "id": "36210559",
   "metadata": {},
   "outputs": [],
   "source": [
    "# Load the trained SentencePiece model\n",
    "sp = spm.SentencePieceProcessor()\n",
    "sp.load(f'{model_prefix}.model')\n",
    "\n",
    "with open('corpus.txt', 'r') as file:\n",
    "    # Read the entire contents of the file into a string\n",
    "    file_contents = file.read()\n",
    "\n",
    "# Now, file_contents contains the text from the file as a string\n",
    "\n",
    "\n",
    "tokens = sp.encode_as_pieces(file_contents)"
   ]
  },
  {
   "cell_type": "code",
   "execution_count": null,
   "id": "442e373a",
   "metadata": {},
   "outputs": [],
   "source": [
    "print(len(tokens))\n",
    "token_id = 1\n",
    "token_dictionary_valid = dict()\n",
    "token_dict = {}\n",
    "\n",
    "for token in tokens:\n",
    "    #token_dictionary_valid[str(token_id)] = token\n",
    "    token_dict[token] = token_id\n",
    "    token_id +=1\n",
    "print(len(token_dict))\n",
    "\n",
    "# Tokenize a sentence\n",
    "\"\"\" query_tokens = dict()\n",
    "passage_tokens = dict()\n",
    "token_id = 0\n",
    "for query in queries:\n",
    "    one_query_tokens = sp.encode_as_pieces(query)\n",
    "    for token in one_query_tokens:\n",
    "        query_tokens[token] = token_id\n",
    "        token_id +=1\n",
    "    \n",
    "token_id = 0\n",
    "for unique_text in unique_passage_list:\n",
    "    one_passage_tokens = sp.encode_as_pieces(unique_text)\n",
    "    for token in one_passage_tokens:\n",
    "        passage_tokens[token] = token_id\n",
    "        token_id +=1\n",
    "\"\"\"\n",
    "\n"
   ]
  },
  {
   "cell_type": "code",
   "execution_count": null,
   "id": "627e08e4",
   "metadata": {},
   "outputs": [],
   "source": []
  },
  {
   "cell_type": "code",
   "execution_count": null,
   "id": "9b027075",
   "metadata": {},
   "outputs": [],
   "source": [
    "#print(token_dictionary['1'])\n",
    "print(int(token_dictionary_valtoken['for']))"
   ]
  },
  {
   "cell_type": "code",
   "execution_count": null,
   "id": "68675123",
   "metadata": {},
   "outputs": [],
   "source": [
    "print(len(token_dictionary_valtoken))\n"
   ]
  },
  {
   "cell_type": "code",
   "execution_count": null,
   "id": "11f2cf77",
   "metadata": {},
   "outputs": [],
   "source": []
  }
 ],
 "metadata": {
  "kernelspec": {
   "display_name": "Python 3 (ipykernel)",
   "language": "python",
   "name": "python3"
  },
  "language_info": {
   "codemirror_mode": {
    "name": "ipython",
    "version": 3
   },
   "file_extension": ".py",
   "mimetype": "text/x-python",
   "name": "python",
   "nbconvert_exporter": "python",
   "pygments_lexer": "ipython3",
   "version": "3.11.5"
  }
 },
 "nbformat": 4,
 "nbformat_minor": 5
}
